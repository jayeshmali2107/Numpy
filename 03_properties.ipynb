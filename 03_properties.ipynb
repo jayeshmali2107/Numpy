{
 "cells": [
  {
   "cell_type": "markdown",
   "id": "8d3a4296",
   "metadata": {},
   "source": [
    "#array properties\n"
   ]
  },
  {
   "cell_type": "code",
   "execution_count": 3,
   "id": "263eeccc",
   "metadata": {},
   "outputs": [],
   "source": [
    "import numpy as np"
   ]
  },
  {
   "cell_type": "code",
   "execution_count": 7,
   "id": "72220210",
   "metadata": {},
   "outputs": [
    {
     "name": "stdout",
     "output_type": "stream",
     "text": [
      "shape :  (2, 3)\n",
      "dimension :  2\n",
      "size :  6\n",
      "data type :  int64\n",
      "bytes :  48\n"
     ]
    }
   ],
   "source": [
    "arr=np.array([[1,2,3],\n",
    "              [4,5,6]])\n",
    "print(\"shape : \",arr.shape)\n",
    "print(\"dimension : \",arr.ndim)\n",
    "print(\"size : \",arr.size)\n",
    "print(\"data type : \",arr.dtype)\n",
    "print(\"bytes : \",arr.nbytes)\n"
   ]
  }
 ],
 "metadata": {
  "kernelspec": {
   "display_name": "venv",
   "language": "python",
   "name": "python3"
  },
  "language_info": {
   "codemirror_mode": {
    "name": "ipython",
    "version": 3
   },
   "file_extension": ".py",
   "mimetype": "text/x-python",
   "name": "python",
   "nbconvert_exporter": "python",
   "pygments_lexer": "ipython3",
   "version": "3.10.11"
  }
 },
 "nbformat": 4,
 "nbformat_minor": 5
}
