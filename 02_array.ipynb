{
 "cells": [
  {
   "cell_type": "markdown",
   "id": "8b4347fe",
   "metadata": {},
   "source": [
    "#array creation"
   ]
  },
  {
   "cell_type": "code",
   "execution_count": 2,
   "id": "b2339870",
   "metadata": {},
   "outputs": [],
   "source": [
    "import numpy as np"
   ]
  },
  {
   "cell_type": "code",
   "execution_count": 3,
   "id": "606d2676",
   "metadata": {},
   "outputs": [
    {
     "name": "stdout",
     "output_type": "stream",
     "text": [
      "[[0. 0. 0. 0.]\n",
      " [0. 0. 0. 0.]\n",
      " [0. 0. 0. 0.]]\n"
     ]
    }
   ],
   "source": [
    "arr1=np.zeros([3,4])\n",
    "print(arr1)"
   ]
  },
  {
   "cell_type": "code",
   "execution_count": 4,
   "id": "6872324a",
   "metadata": {},
   "outputs": [
    {
     "name": "stdout",
     "output_type": "stream",
     "text": [
      "[[1. 1. 1.]\n",
      " [1. 1. 1.]]\n"
     ]
    }
   ],
   "source": [
    "arr2=np.ones([2,3])\n",
    "print(arr2)"
   ]
  },
  {
   "cell_type": "code",
   "execution_count": 5,
   "id": "bbf4edcc",
   "metadata": {},
   "outputs": [
    {
     "name": "stdout",
     "output_type": "stream",
     "text": [
      "[[6 6 6 6]\n",
      " [6 6 6 6]\n",
      " [6 6 6 6]]\n"
     ]
    }
   ],
   "source": [
    "arr3=np.full([3,4],6)\n",
    "print(arr3)"
   ]
  },
  {
   "cell_type": "code",
   "execution_count": 6,
   "id": "46a169c9",
   "metadata": {},
   "outputs": [
    {
     "name": "stdout",
     "output_type": "stream",
     "text": [
      "[[0.89619126 0.20575671 0.77101318 0.5640802 ]\n",
      " [0.03960268 0.18692077 0.02311042 0.99867786]\n",
      " [0.3175095  0.00509    0.11977505 0.29433257]]\n"
     ]
    }
   ],
   "source": [
    "arr4=np.random.random([3,4])\n",
    "print(arr4)"
   ]
  },
  {
   "cell_type": "code",
   "execution_count": 10,
   "id": "3b965a51",
   "metadata": {},
   "outputs": [
    {
     "name": "stdout",
     "output_type": "stream",
     "text": [
      "[0 2 4 6 8]\n"
     ]
    }
   ],
   "source": [
    "arr5=np.arange(0,9,2)\n",
    "print(arr5)"
   ]
  },
  {
   "cell_type": "markdown",
   "id": "d31082b8",
   "metadata": {},
   "source": [
    "#vector,matrix,tensor"
   ]
  },
  {
   "cell_type": "code",
   "execution_count": 14,
   "id": "28622a81",
   "metadata": {},
   "outputs": [
    {
     "name": "stdout",
     "output_type": "stream",
     "text": [
      "vector:\n",
      " [1 2 3]\n",
      "matrix:\n",
      " [[1 2 3]\n",
      " [5 6 7]]\n",
      "tensor:\n",
      " [[[1 2]\n",
      "  [3 4]]\n",
      "\n",
      " [[6 7]\n",
      "  [8 9]]]\n"
     ]
    }
   ],
   "source": [
    "vector = np.array([1,2,3])\n",
    "print(\"vector:\\n\",vector)\n",
    "\n",
    "matrix=np.array([[1,2,3],[5,6,7]])\n",
    "print(\"matrix:\\n\",matrix)\n",
    "\n",
    "tensor=np.array([[[1,2],[3,4]],[[6,7],[8,9]]])\n",
    "print(\"tensor:\\n\",tensor)"
   ]
  }
 ],
 "metadata": {
  "kernelspec": {
   "display_name": "venv",
   "language": "python",
   "name": "python3"
  },
  "language_info": {
   "codemirror_mode": {
    "name": "ipython",
    "version": 3
   },
   "file_extension": ".py",
   "mimetype": "text/x-python",
   "name": "python",
   "nbconvert_exporter": "python",
   "pygments_lexer": "ipython3",
   "version": "3.10.11"
  }
 },
 "nbformat": 4,
 "nbformat_minor": 5
}
