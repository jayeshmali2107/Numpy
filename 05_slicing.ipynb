{
 "cells": [
  {
   "cell_type": "markdown",
   "id": "a0a992bc",
   "metadata": {},
   "source": [
    "# array slicing in numpy"
   ]
  },
  {
   "cell_type": "code",
   "execution_count": 1,
   "id": "ad422e88",
   "metadata": {},
   "outputs": [],
   "source": [
    "import numpy as np"
   ]
  },
  {
   "cell_type": "code",
   "execution_count": 15,
   "id": "0d4365cf",
   "metadata": {},
   "outputs": [
    {
     "name": "stdout",
     "output_type": "stream",
     "text": [
      "[1 2 3 4 5 6 7 8]\n",
      "[1 2 3 4 5 6 7]\n",
      "[8]\n",
      "[1 2 3 4 5 6 7 8]\n",
      "[3 4 5 6]\n",
      "[2 4 6]\n"
     ]
    }
   ],
   "source": [
    "arr = np.array([1,2,3,4,5,6,7,8])\n",
    "print(arr[0:])\n",
    "print(arr[:-1])\n",
    "print(arr[-1:])\n",
    "print(arr[:])\n",
    "print(arr[2:-2])\n",
    "print(arr[1:-1:2])\n"
   ]
  },
  {
   "cell_type": "code",
   "execution_count": 8,
   "id": "0b6e0c75",
   "metadata": {},
   "outputs": [
    {
     "name": "stdout",
     "output_type": "stream",
     "text": [
      "specific element:  5\n",
      "specific element:  7\n",
      "entire row: [7 8 9]\n",
      "entire column: [1 4 7]\n"
     ]
    }
   ],
   "source": [
    "arr_2d = np.array([[1,2,3],\n",
    "                   [4,5,6],\n",
    "                   [7,8,9]])\n",
    "print(\"specific element: \",arr_2d[1,1])\n",
    "print(\"specific element: \",arr_2d[2,0])\n",
    "print(\"entire row:\",arr_2d[2,])\n",
    "print(\"entire column:\",arr_2d[:,0])"
   ]
  }
 ],
 "metadata": {
  "kernelspec": {
   "display_name": "venv",
   "language": "python",
   "name": "python3"
  },
  "language_info": {
   "codemirror_mode": {
    "name": "ipython",
    "version": 3
   },
   "file_extension": ".py",
   "mimetype": "text/x-python",
   "name": "python",
   "nbconvert_exporter": "python",
   "pygments_lexer": "ipython3",
   "version": "3.10.11"
  }
 },
 "nbformat": 4,
 "nbformat_minor": 5
}
