{
 "cells": [
  {
   "cell_type": "markdown",
   "id": "cba3387d",
   "metadata": {},
   "source": [
    "#fancy indexing"
   ]
  },
  {
   "cell_type": "code",
   "execution_count": 16,
   "id": "311f55de",
   "metadata": {},
   "outputs": [],
   "source": [
    "import numpy as np\n",
    "number = np.array([1,2,3,4,5,6,7,8,9,10])"
   ]
  },
  {
   "cell_type": "code",
   "execution_count": 17,
   "id": "64cc1161",
   "metadata": {},
   "outputs": [
    {
     "name": "stdout",
     "output_type": "stream",
     "text": [
      "[ 1  5 10]\n"
     ]
    }
   ],
   "source": [
    "indicies = [0,4,-1]\n",
    "print(number[indicies])"
   ]
  },
  {
   "cell_type": "markdown",
   "id": "22562c34",
   "metadata": {},
   "source": [
    "###np.where()"
   ]
  },
  {
   "cell_type": "code",
   "execution_count": 19,
   "id": "e334468e",
   "metadata": {},
   "outputs": [
    {
     "name": "stdout",
     "output_type": "stream",
     "text": [
      "(array([5, 6, 7, 8, 9]),)\n",
      "[ 6  7  8  9 10]\n"
     ]
    }
   ],
   "source": [
    "where_result = np.where(number>5)\n",
    "print(where_result)\n",
    "print(number[where_result])"
   ]
  },
  {
   "cell_type": "code",
   "execution_count": 23,
   "id": "3236678e",
   "metadata": {},
   "outputs": [
    {
     "name": "stdout",
     "output_type": "stream",
     "text": [
      "[ 1  2  3  4  5  6  7  8  9 10]\n",
      "['Odd' 'Even' 'Odd' 'Even' 'Odd' 'Even' 'Odd' 'Even' 'Odd' 'Even']\n"
     ]
    }
   ],
   "source": [
    "condition_array =  np.where(number%2==0 , \"Even\",\"Odd\")\n",
    "print( number)\n",
    "print(condition_array)"
   ]
  }
 ],
 "metadata": {
  "kernelspec": {
   "display_name": "venv",
   "language": "python",
   "name": "python3"
  },
  "language_info": {
   "codemirror_mode": {
    "name": "ipython",
    "version": 3
   },
   "file_extension": ".py",
   "mimetype": "text/x-python",
   "name": "python",
   "nbconvert_exporter": "python",
   "pygments_lexer": "ipython3",
   "version": "3.10.11"
  }
 },
 "nbformat": 4,
 "nbformat_minor": 5
}
