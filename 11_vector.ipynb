{
 "cells": [
  {
   "cell_type": "code",
   "execution_count": 18,
   "id": "164d1051",
   "metadata": {},
   "outputs": [],
   "source": [
    "import numpy as np\n",
    "vector1 = np.array([1,2,3,4,5])\n",
    "vector2 = np.array([6,7,8,9,10])"
   ]
  },
  {
   "cell_type": "code",
   "execution_count": 19,
   "id": "2424e92f",
   "metadata": {},
   "outputs": [
    {
     "name": "stdout",
     "output_type": "stream",
     "text": [
      "addition of vector : [ 7  9 11 13 15]\n",
      "multiplication of vector [ 6 14 24 36 50]\n",
      "dot product of vector: 130\n",
      "angle between both vector is 0.26554161733900966\n"
     ]
    }
   ],
   "source": [
    "print(\"addition of vector :\",vector1+vector2)\n",
    "print(\"multiplication of vector\",vector1 * vector2)\n",
    "print(\"dot product of vector:\",np.dot(vector1,vector2))\n",
    "angle = np.arccos(np.dot(vector1,vector2) / (np.linalg.norm(vector1)*np.linalg.norm(vector2)))\n",
    "print(\"angle between both vector is\",angle)"
   ]
  },
  {
   "cell_type": "markdown",
   "id": "395cf15a",
   "metadata": {},
   "source": [
    "#vectorize operation"
   ]
  },
  {
   "cell_type": "code",
   "execution_count": 33,
   "id": "59270eb2",
   "metadata": {},
   "outputs": [
    {
     "name": "stdout",
     "output_type": "stream",
     "text": [
      "['PIZZA' 'BURGER' 'DOSA' 'IDLI']\n",
      "['Pizza' 'Burger' 'Dosa' 'Idli']\n"
     ]
    }
   ],
   "source": [
    "food = np.array(['pizza','burger','dosa','idli'])\n",
    "vectorize_array = np.vectorize(str.upper)\n",
    "vectorize_array1 = np.vectorize(str.capitalize)\n",
    "print(vectorize_array(food))\n",
    "print(vectorize_array1(food))"
   ]
  }
 ],
 "metadata": {
  "kernelspec": {
   "display_name": "venv",
   "language": "python",
   "name": "python3"
  },
  "language_info": {
   "codemirror_mode": {
    "name": "ipython",
    "version": 3
   },
   "file_extension": ".py",
   "mimetype": "text/x-python",
   "name": "python",
   "nbconvert_exporter": "python",
   "pygments_lexer": "ipython3",
   "version": "3.10.11"
  }
 },
 "nbformat": 4,
 "nbformat_minor": 5
}
