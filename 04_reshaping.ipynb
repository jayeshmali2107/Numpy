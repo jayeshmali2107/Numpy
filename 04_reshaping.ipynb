{
 "cells": [
  {
   "cell_type": "markdown",
   "id": "2e993882",
   "metadata": {},
   "source": [
    "# array reshaping"
   ]
  },
  {
   "cell_type": "code",
   "execution_count": 1,
   "id": "bf640cf5",
   "metadata": {},
   "outputs": [],
   "source": [
    "import numpy as np"
   ]
  },
  {
   "cell_type": "code",
   "execution_count": 2,
   "id": "bde7dc51",
   "metadata": {},
   "outputs": [
    {
     "name": "stdout",
     "output_type": "stream",
     "text": [
      "original array :  [1 2 3 4 5 6 7 8 9]\n",
      "\n",
      " reshaped :  [[1 2 3]\n",
      " [4 5 6]\n",
      " [7 8 9]]\n",
      "\n",
      " flattend:  [1 2 3 4 5 6 7 8 9]\n",
      "\n",
      " raveled :  [1 2 3 4 5 6 7 8 9]\n",
      "\n",
      " transpose :  [[1 4 7]\n",
      " [2 5 8]\n",
      " [3 6 9]]\n"
     ]
    }
   ],
   "source": [
    "arr=np.array([1,2,3,4,5,6,7,8,9])\n",
    "print(\"original array : \",arr)\n",
    "\n",
    "reshaped =arr.reshape(3,3)\n",
    "print(\"\\n reshaped : \",reshaped)\n",
    "\n",
    "flattend=reshaped.flatten()\n",
    "print(\"\\n flattend: \",flattend)\n",
    "\n",
    "raveled = reshaped.ravel()\n",
    "print(\"\\n raveled : \",raveled)\n",
    "\n",
    "transpose = reshaped.T\n",
    "print(\"\\n transpose : \",transpose)\n"
   ]
  }
 ],
 "metadata": {
  "kernelspec": {
   "display_name": "venv",
   "language": "python",
   "name": "python3"
  },
  "language_info": {
   "codemirror_mode": {
    "name": "ipython",
    "version": 3
   },
   "file_extension": ".py",
   "mimetype": "text/x-python",
   "name": "python",
   "nbconvert_exporter": "python",
   "pygments_lexer": "ipython3",
   "version": "3.10.11"
  }
 },
 "nbformat": 4,
 "nbformat_minor": 5
}
