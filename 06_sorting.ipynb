{
 "cells": [
  {
   "cell_type": "markdown",
   "id": "5ee5d61b",
   "metadata": {},
   "source": [
    "#sort array "
   ]
  },
  {
   "cell_type": "code",
   "execution_count": 2,
   "id": "de3ef7f3",
   "metadata": {},
   "outputs": [],
   "source": [
    "import numpy as np"
   ]
  },
  {
   "cell_type": "code",
   "execution_count": 3,
   "id": "f8112d22",
   "metadata": {},
   "outputs": [
    {
     "name": "stdout",
     "output_type": "stream",
     "text": [
      "soring an array : [0 1 2 3 8 9 9]\n",
      "soring an array : [1 8 9]\n",
      "soring an array : [0 1 2 3 8 9 9]\n"
     ]
    }
   ],
   "source": [
    "unsorted = np.array([9,3,8,1,9,2,0])\n",
    "print(\"soring an array :\",np.sort(unsorted))\n",
    "print(\"soring an array :\",np.sort(unsorted[2:-2]))\n",
    "print(\"soring an array :\",np.sort(unsorted[0:]))\n",
    "\n",
    " "
   ]
  },
  {
   "cell_type": "code",
   "execution_count": 10,
   "id": "62c23b7f",
   "metadata": {},
   "outputs": [
    {
     "name": "stdout",
     "output_type": "stream",
     "text": [
      "sorted 2d array :\n",
      " [[1 2 3]\n",
      " [4 5 6]\n",
      " [3 7 8]]\n",
      "sorted 2d array by column :\n",
      " [[3 2 1]\n",
      " [5 3 4]\n",
      " [8 6 7]]\n",
      "sorted 2d array by row:\n",
      " [[1 2 3]\n",
      " [4 5 6]\n",
      " [3 7 8]]\n"
     ]
    }
   ],
   "source": [
    "unsorted_2d = np.array([[3,2,1],\n",
    "                        [5,6,4],\n",
    "                        [8,3,7]])\n",
    "\n",
    "print(\"sorted 2d array :\\n\",np.sort(unsorted_2d)) #by default it sort by row \n",
    "print(\"sorted 2d array by column :\\n\",np.sort(unsorted_2d,axis=0))\n",
    "print(\"sorted 2d array by row:\\n\",np.sort(unsorted_2d,axis=1))\n"
   ]
  }
 ],
 "metadata": {
  "kernelspec": {
   "display_name": "venv",
   "language": "python",
   "name": "python3"
  },
  "language_info": {
   "codemirror_mode": {
    "name": "ipython",
    "version": 3
   },
   "file_extension": ".py",
   "mimetype": "text/x-python",
   "name": "python",
   "nbconvert_exporter": "python",
   "pygments_lexer": "ipython3",
   "version": "3.10.11"
  }
 },
 "nbformat": 4,
 "nbformat_minor": 5
}
