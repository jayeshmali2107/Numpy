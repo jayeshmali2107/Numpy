{
 "cells": [
  {
   "cell_type": "code",
   "execution_count": 1,
   "id": "d8fd6d71",
   "metadata": {},
   "outputs": [],
   "source": [
    "import numpy as np"
   ]
  },
  {
   "cell_type": "markdown",
   "id": "9a3a4b51",
   "metadata": {},
   "source": [
    "### adding two array"
   ]
  },
  {
   "cell_type": "code",
   "execution_count": null,
   "id": "0299368e",
   "metadata": {},
   "outputs": [
    {
     "name": "stdout",
     "output_type": "stream",
     "text": [
      "addition of two array : [1 2 3 4 5 6]\n"
     ]
    }
   ],
   "source": [
    "arr1 = np.array([1,2,3])\n",
    "arr2 = np.array([4,5,6])\n",
    "\n",
    "combined = np.concatenate((arr1 , arr2))\n",
    "print(\"addition of two array :\",combined)"
   ]
  },
  {
   "cell_type": "markdown",
   "id": "f1e3bc9a",
   "metadata": {},
   "source": [
    "###deletion"
   ]
  },
  {
   "cell_type": "code",
   "execution_count": null,
   "id": "0ca30d58",
   "metadata": {},
   "outputs": [
    {
     "name": "stdout",
     "output_type": "stream",
     "text": [
      "before deletion [1 2 3 4 5 6]\n",
      "after deletion [1 2 4 5 6]\n"
     ]
    }
   ],
   "source": [
    "deletion = np.delete(combined,2)\n",
    "print(\"before deletion\",combined)\n",
    "print(\"after deletion\",deletion)"
   ]
  },
  {
   "cell_type": "markdown",
   "id": "770c026b",
   "metadata": {},
   "source": [
    "###compatibility (check shape of both array)"
   ]
  },
  {
   "cell_type": "code",
   "execution_count": 15,
   "id": "638231ab",
   "metadata": {},
   "outputs": [
    {
     "name": "stdout",
     "output_type": "stream",
     "text": [
      "compatibility shape : True\n"
     ]
    }
   ],
   "source": [
    "array1 = np.array([[1,2,3],\n",
    "                  [4,5,6],\n",
    "                  [7,8,9]])\n",
    "array2 = np.array([[2,1,3],\n",
    "                  [4,5,6],\n",
    "                  [7,5,8]])\n",
    "print(\"compatibility shape :\",array1.shape==array2.shape)"
   ]
  },
  {
   "cell_type": "markdown",
   "id": "06beb716",
   "metadata": {},
   "source": [
    "###Vstack (This function is particularly useful for combining arrays row wise)"
   ]
  },
  {
   "cell_type": "code",
   "execution_count": 19,
   "id": "a4989f17",
   "metadata": {},
   "outputs": [
    {
     "name": "stdout",
     "output_type": "stream",
     "text": [
      "before :\n",
      " [[1 2]\n",
      " [3 4]]\n",
      "after :\n",
      " [[1 2]\n",
      " [3 4]\n",
      " [5 6]]\n"
     ]
    }
   ],
   "source": [
    "arr_3 = np.array([[1,2],\n",
    "                  [3,4]])\n",
    "new_row = [5,6]\n",
    "final_array = np.vstack((arr_3,new_row))\n",
    "print(\"before :\\n\",arr_3)\n",
    "print(\"after :\\n\",final_array)"
   ]
  },
  {
   "cell_type": "markdown",
   "id": "4475064e",
   "metadata": {},
   "source": [
    "###hstack (This function is particularly useful for combining arrays column  wise)"
   ]
  },
  {
   "cell_type": "code",
   "execution_count": 18,
   "id": "253ba9db",
   "metadata": {},
   "outputs": [
    {
     "name": "stdout",
     "output_type": "stream",
     "text": [
      "before :\n",
      " [[1 2]\n",
      " [3 4]]\n",
      "after :\n",
      " [[1 2 5]\n",
      " [3 4 6]]\n"
     ]
    }
   ],
   "source": [
    "arr_4 = np.array([[1,2],\n",
    "                  [3,4]])\n",
    "new_column = [[5],[6]]\n",
    "result = np.hstack((arr_4,new_column))\n",
    "print(\"before :\\n\",arr_4)\n",
    "print(\"after :\\n\",result)"
   ]
  }
 ],
 "metadata": {
  "kernelspec": {
   "display_name": "venv",
   "language": "python",
   "name": "python3"
  },
  "language_info": {
   "codemirror_mode": {
    "name": "ipython",
    "version": 3
   },
   "file_extension": ".py",
   "mimetype": "text/x-python",
   "name": "python",
   "nbconvert_exporter": "python",
   "pygments_lexer": "ipython3",
   "version": "3.10.11"
  }
 },
 "nbformat": 4,
 "nbformat_minor": 5
}
